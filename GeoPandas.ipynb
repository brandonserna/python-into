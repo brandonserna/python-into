{
 "cells": [
  {
   "cell_type": "markdown",
   "metadata": {},
   "source": [
    "# Geo Pandas Example"
   ]
  },
  {
   "cell_type": "code",
   "execution_count": 10,
   "metadata": {},
   "outputs": [],
   "source": [
    "import fiona\n",
    "import geopandas as gpd\n",
    "\n",
    "%matplotlib inline"
   ]
  },
  {
   "cell_type": "code",
   "execution_count": 7,
   "metadata": {
    "scrolled": true
   },
   "outputs": [],
   "source": [
    "fiona.drvsupport.supported_drivers['kml'] = 'rw'\n",
    "fiona.drvsupport.supported_drivers['KML'] = 'rw'\n",
    "#df = gpd.read_file('Test_250m_lower.kml')"
   ]
  },
  {
   "cell_type": "code",
   "execution_count": 14,
   "metadata": {
    "scrolled": true
   },
   "outputs": [
    {
     "data": {
      "text/html": [
       "<div>\n",
       "<table border=\"1\" class=\"dataframe\">\n",
       "  <thead>\n",
       "    <tr style=\"text-align: right;\">\n",
       "      <th></th>\n",
       "      <th>OBJECTID</th>\n",
       "      <th>RIVER_ID</th>\n",
       "      <th>WSR_RIVER_</th>\n",
       "      <th>WSR_RIVE_1</th>\n",
       "      <th>STATE</th>\n",
       "      <th>MANAGEMENT</th>\n",
       "      <th>CLASSIFICA</th>\n",
       "      <th>ORV_SOURCE</th>\n",
       "      <th>MANAGING_E</th>\n",
       "      <th>PUBLIC_LAW</th>\n",
       "      <th>PUBLIC_L_1</th>\n",
       "      <th>ENACTED_DA</th>\n",
       "      <th>AGENCY</th>\n",
       "      <th>WEBLINK</th>\n",
       "      <th>LOCALWEBSI</th>\n",
       "      <th>RIVERCATEG</th>\n",
       "      <th>PHOTOLINK</th>\n",
       "      <th>PHOTOCREDI</th>\n",
       "      <th>SHAPELEN</th>\n",
       "      <th>geometry</th>\n",
       "    </tr>\n",
       "  </thead>\n",
       "  <tbody>\n",
       "    <tr>\n",
       "      <th>0</th>\n",
       "      <td>61</td>\n",
       "      <td>10</td>\n",
       "      <td>Chattooga Wild and Scenic River</td>\n",
       "      <td>Chattooga</td>\n",
       "      <td>Georgia &amp; North Carolina &amp; South Carolina</td>\n",
       "      <td>Y</td>\n",
       "      <td></td>\n",
       "      <td></td>\n",
       "      <td>USFS</td>\n",
       "      <td>93-279</td>\n",
       "      <td>93-279</td>\n",
       "      <td>1974-05-10T00:00:00.000Z</td>\n",
       "      <td>USFS</td>\n",
       "      <td>http://www.rivers.gov/rivers/chattooga.php</td>\n",
       "      <td></td>\n",
       "      <td>Federally Administered</td>\n",
       "      <td>https://farm8.staticflickr.com/7287/1680465023...</td>\n",
       "      <td>Tim Palmer</td>\n",
       "      <td>0.920180</td>\n",
       "      <td>(LINESTRING (-83.32658382628432 34.75608490336...</td>\n",
       "    </tr>\n",
       "    <tr>\n",
       "      <th>1</th>\n",
       "      <td>79</td>\n",
       "      <td>116</td>\n",
       "      <td>Clarks Fork Wild and Scenic River</td>\n",
       "      <td>Clarks Fork</td>\n",
       "      <td>Wyoming</td>\n",
       "      <td>Y</td>\n",
       "      <td></td>\n",
       "      <td></td>\n",
       "      <td>USFS</td>\n",
       "      <td>CLARKS FORK WILD AND SCENIC RIVER DESIGNATION ...</td>\n",
       "      <td>101-628</td>\n",
       "      <td>1990-11-28T00:00:00.000Z</td>\n",
       "      <td>USFS</td>\n",
       "      <td>http://www.rivers.gov/rivers/yellowstone.php</td>\n",
       "      <td></td>\n",
       "      <td>Federally Administered</td>\n",
       "      <td>https://c2.staticflickr.com/8/7626/16803314202...</td>\n",
       "      <td>Tim Palmer</td>\n",
       "      <td>0.425912</td>\n",
       "      <td>LINESTRING (-109.3009895776885 44.846558830854...</td>\n",
       "    </tr>\n",
       "  </tbody>\n",
       "</table>\n",
       "</div>"
      ],
      "text/plain": [
       "   OBJECTID RIVER_ID                         WSR_RIVER_   WSR_RIVE_1  \\\n",
       "0        61       10    Chattooga Wild and Scenic River    Chattooga   \n",
       "1        79      116  Clarks Fork Wild and Scenic River  Clarks Fork   \n",
       "\n",
       "                                       STATE MANAGEMENT CLASSIFICA ORV_SOURCE  \\\n",
       "0  Georgia & North Carolina & South Carolina          Y                         \n",
       "1                                    Wyoming          Y                         \n",
       "\n",
       "  MANAGING_E                                         PUBLIC_LAW PUBLIC_L_1  \\\n",
       "0       USFS                                             93-279     93-279   \n",
       "1       USFS  CLARKS FORK WILD AND SCENIC RIVER DESIGNATION ...    101-628   \n",
       "\n",
       "                 ENACTED_DA AGENCY  \\\n",
       "0  1974-05-10T00:00:00.000Z   USFS   \n",
       "1  1990-11-28T00:00:00.000Z   USFS   \n",
       "\n",
       "                                        WEBLINK LOCALWEBSI  \\\n",
       "0    http://www.rivers.gov/rivers/chattooga.php              \n",
       "1  http://www.rivers.gov/rivers/yellowstone.php              \n",
       "\n",
       "               RIVERCATEG                                          PHOTOLINK  \\\n",
       "0  Federally Administered  https://farm8.staticflickr.com/7287/1680465023...   \n",
       "1  Federally Administered  https://c2.staticflickr.com/8/7626/16803314202...   \n",
       "\n",
       "   PHOTOCREDI  SHAPELEN                                           geometry  \n",
       "0  Tim Palmer  0.920180  (LINESTRING (-83.32658382628432 34.75608490336...  \n",
       "1  Tim Palmer  0.425912  LINESTRING (-109.3009895776885 44.846558830854...  "
      ]
     },
     "execution_count": 14,
     "metadata": {},
     "output_type": "execute_result"
    }
   ],
   "source": [
    "df = gpd.read_file('./fs_eastern_wsr/fs_eastern_wsr.shp')\n",
    "df.head(2)"
   ]
  },
  {
   "cell_type": "code",
   "execution_count": 12,
   "metadata": {
    "scrolled": true
   },
   "outputs": [
    {
     "name": "stdout",
     "output_type": "stream",
     "text": [
      "<class 'geopandas.geodataframe.GeoDataFrame'>\n",
      "RangeIndex: 75 entries, 0 to 74\n",
      "Data columns (total 20 columns):\n",
      "OBJECTID      75 non-null int64\n",
      "RIVER_ID      75 non-null object\n",
      "WSR_RIVER_    75 non-null object\n",
      "WSR_RIVE_1    75 non-null object\n",
      "STATE         75 non-null object\n",
      "MANAGEMENT    75 non-null object\n",
      "CLASSIFICA    75 non-null object\n",
      "ORV_SOURCE    75 non-null object\n",
      "MANAGING_E    75 non-null object\n",
      "PUBLIC_LAW    75 non-null object\n",
      "PUBLIC_L_1    75 non-null object\n",
      "ENACTED_DA    75 non-null object\n",
      "AGENCY        75 non-null object\n",
      "WEBLINK       75 non-null object\n",
      "LOCALWEBSI    75 non-null object\n",
      "RIVERCATEG    75 non-null object\n",
      "PHOTOLINK     75 non-null object\n",
      "PHOTOCREDI    75 non-null object\n",
      "SHAPELEN      75 non-null float64\n",
      "geometry      75 non-null object\n",
      "dtypes: float64(1), int64(1), object(18)\n",
      "memory usage: 11.8+ KB\n"
     ]
    }
   ],
   "source": [
    "df.info()"
   ]
  },
  {
   "cell_type": "code",
   "execution_count": 24,
   "metadata": {},
   "outputs": [
    {
     "data": {
      "text/plain": [
       "OBJECTID                                                     61\n",
       "RIVER_ID                                                     10\n",
       "WSR_RIVER_                      Chattooga Wild and Scenic River\n",
       "WSR_RIVE_1                                            Chattooga\n",
       "STATE                 Georgia & North Carolina & South Carolina\n",
       "MANAGEMENT                                                    Y\n",
       "CLASSIFICA                                                     \n",
       "ORV_SOURCE                                                     \n",
       "MANAGING_E                                                 USFS\n",
       "PUBLIC_LAW                                               93-279\n",
       "PUBLIC_L_1                                               93-279\n",
       "ENACTED_DA                             1974-05-10T00:00:00.000Z\n",
       "AGENCY                                                     USFS\n",
       "WEBLINK              http://www.rivers.gov/rivers/chattooga.php\n",
       "LOCALWEBSI                                                     \n",
       "RIVERCATEG                               Federally Administered\n",
       "PHOTOLINK     https://farm8.staticflickr.com/7287/1680465023...\n",
       "PHOTOCREDI                                           Tim Palmer\n",
       "SHAPELEN                                                0.92018\n",
       "geometry      (LINESTRING (-83.32658382628432 34.75608490336...\n",
       "Name: 0, dtype: object"
      ]
     },
     "execution_count": 24,
     "metadata": {},
     "output_type": "execute_result"
    }
   ],
   "source": [
    "sample = df.iloc[0]\n",
    "sample"
   ]
  },
  {
   "cell_type": "markdown",
   "metadata": {},
   "source": [
    "### Example of getting image from dataframe using requests"
   ]
  },
  {
   "cell_type": "code",
   "execution_count": 26,
   "metadata": {},
   "outputs": [
    {
     "data": {
      "text/plain": [
       "'https://farm8.staticflickr.com/7287/16804650235_66ccc2cc7f_m.jpg'"
      ]
     },
     "execution_count": 26,
     "metadata": {},
     "output_type": "execute_result"
    }
   ],
   "source": [
    "sample['PHOTOLINK']"
   ]
  },
  {
   "cell_type": "code",
   "execution_count": 30,
   "metadata": {},
   "outputs": [],
   "source": [
    "import requests\n",
    "\n",
    "r = requests.get(sample['PHOTOLINK'])\n",
    "\n",
    "with open('./image.jpg', 'wb') as f:\n",
    "    f.write(r.content)"
   ]
  },
  {
   "cell_type": "code",
   "execution_count": 34,
   "metadata": {},
   "outputs": [],
   "source": [
    "!open ."
   ]
  },
  {
   "cell_type": "markdown",
   "metadata": {},
   "source": [
    "### Agency"
   ]
  },
  {
   "cell_type": "code",
   "execution_count": 17,
   "metadata": {},
   "outputs": [
    {
     "data": {
      "text/plain": [
       "USFS         36\n",
       "NPS          35\n",
       "NPS, FWS      2\n",
       "BLM           1\n",
       "USFS, NPS     1\n",
       "Name: AGENCY, dtype: int64"
      ]
     },
     "execution_count": 17,
     "metadata": {},
     "output_type": "execute_result"
    }
   ],
   "source": [
    "df['AGENCY'].value_counts()"
   ]
  },
  {
   "cell_type": "code",
   "execution_count": 20,
   "metadata": {},
   "outputs": [
    {
     "data": {
      "text/plain": [
       "<matplotlib.axes._subplots.AxesSubplot at 0x1231e1208>"
      ]
     },
     "execution_count": 20,
     "metadata": {},
     "output_type": "execute_result"
    },
    {
     "data": {
      "image/png": "[encoded data removed]",
      "text/plain": [
       "<matplotlib.figure.Figure at 0x123811208>"
      ]
     },
     "metadata": {},
     "output_type": "display_data"
    }
   ],
   "source": [
    "df['AGENCY'].value_counts().plot(kind='barh')"
   ]
  },
  {
   "cell_type": "code",
   "execution_count": 39,
   "metadata": {},
   "outputs": [
    {
     "data": {
      "text/plain": [
       "<matplotlib.axes._subplots.AxesSubplot at 0x1244a85f8>"
      ]
     },
     "execution_count": 39,
     "metadata": {},
     "output_type": "execute_result"
    },
    {
     "data": {
      "image/png": "[encoded data removed]",
      "text/plain": [
       "<matplotlib.figure.Figure at 0x1244b7b38>"
      ]
     },
     "metadata": {},
     "output_type": "display_data"
    }
   ],
   "source": [
    "df['geometry'].plot()"
   ]
  },
  {
   "cell_type": "code",
   "execution_count": 40,
   "metadata": {},
   "outputs": [
    {
     "data": {
      "text/html": [
       "<div>\n",
       "<table border=\"1\" class=\"dataframe\">\n",
       "  <thead>\n",
       "    <tr style=\"text-align: right;\">\n",
       "      <th></th>\n",
       "      <th>Name</th>\n",
       "      <th>Description</th>\n",
       "      <th>geometry</th>\n",
       "    </tr>\n",
       "  </thead>\n",
       "  <tbody>\n",
       "    <tr>\n",
       "      <th>0</th>\n",
       "      <td>10</td>\n",
       "      <td>&lt;html xmlns:fo=\"http://www.w3.org/1999/XSL/For...</td>\n",
       "      <td>(LINESTRING Z (-83.17034969894885 34.916866541...</td>\n",
       "    </tr>\n",
       "    <tr>\n",
       "      <th>1</th>\n",
       "      <td>116</td>\n",
       "      <td>&lt;html xmlns:fo=\"http://www.w3.org/1999/XSL/For...</td>\n",
       "      <td>(LINESTRING Z (-109.636023155304 44.8657235394...</td>\n",
       "    </tr>\n",
       "  </tbody>\n",
       "</table>\n",
       "</div>"
      ],
      "text/plain": [
       "  Name                                        Description  \\\n",
       "0   10  <html xmlns:fo=\"http://www.w3.org/1999/XSL/For...   \n",
       "1  116  <html xmlns:fo=\"http://www.w3.org/1999/XSL/For...   \n",
       "\n",
       "                                            geometry  \n",
       "0  (LINESTRING Z (-83.17034969894885 34.916866541...  \n",
       "1  (LINESTRING Z (-109.636023155304 44.8657235394...  "
      ]
     },
     "execution_count": 40,
     "metadata": {},
     "output_type": "execute_result"
    }
   ],
   "source": [
    "test = gpd.read_file('./fs_eastern_wsr_Notebook_Test.kml')\n",
    "test.head(2)"
   ]
  },
  {
   "cell_type": "code",
   "execution_count": 41,
   "metadata": {},
   "outputs": [
    {
     "data": {
      "text/plain": [
       "<matplotlib.axes._subplots.AxesSubplot at 0x1247bbd30>"
      ]
     },
     "execution_count": 41,
     "metadata": {},
     "output_type": "execute_result"
    },
    {
     "data": {
      "image/png": "[encoded data removed]",
      "text/plain": [
       "<matplotlib.figure.Figure at 0x1247c6f98>"
      ]
     },
     "metadata": {},
     "output_type": "display_data"
    }
   ],
   "source": [
    "test.plot()"
   ]
  },
  {
   "cell_type": "code",
   "execution_count": null,
   "metadata": {},
   "outputs": [],
   "source": []
  }
 ],
 "metadata": {
  "kernelspec": {
   "display_name": "Python 3",
   "language": "python",
   "name": "python3"
  },
  "language_info": {
   "codemirror_mode": {
    "name": "ipython",
    "version": 3
   },
   "file_extension": ".py",
   "mimetype": "text/x-python",
   "name": "python",
   "nbconvert_exporter": "python",
   "pygments_lexer": "ipython3",
   "version": "3.6.0"
  }
 },
 "nbformat": 4,
 "nbformat_minor": 2
}
